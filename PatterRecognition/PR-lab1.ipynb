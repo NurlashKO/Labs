{
 "cells": [
  {
   "cell_type": "markdown",
   "metadata": {},
   "source": [
    "# Intro to Mathematical logic, Jupyter Notebook\n",
    "\n",
    "## Installation\n",
    "* pip install pyDatalog\n",
    "\n",
    "## Tasks\n",
    "* Extend rules for the salary at your own company. Namely add progressive tax rate depending on salary tax_rate=f(salary)\n",
    "* Add working time and calculate the total salary for every employee\n",
    "* Make filter form for employees"
   ]
  },
  {
   "cell_type": "code",
   "execution_count": 1,
   "metadata": {},
   "outputs": [
    {
     "name": "stdout",
     "output_type": "stream",
     "text": [
      "Set the X var to 1\n",
      "X\n",
      "-\n",
      "1\n",
      "\n",
      "Assignment of 2 Vars\n",
      "X    | Y    \n",
      "-----|------\n",
      "True | False\n",
      "\n",
      "Assignment n times, to n values\n",
      "Arr\n",
      "---\n",
      "1  \n",
      "4  \n",
      "2  \n",
      "0  \n",
      "3  \n",
      "\n",
      "Just another case N assignment\n",
      "[(0,), (3,), (4,), (1,), (2,)]\n",
      "\n",
      "Filtering\n",
      "X\n",
      "-\n",
      "1\n",
      "0\n",
      "\n",
      "Term of function\n",
      "X | Y\n",
      "--|--\n",
      "2 | 4\n",
      "\n",
      "Combination Assignment and Filtering\n",
      "X | Y | Z\n",
      "--|---|--\n",
      "1 | 0 | 0\n",
      "3 | 0 | 0\n",
      "1 | 1 | 1\n",
      "0 | 2 | 0\n",
      "0 | 1 | 0\n",
      "4 | 0 | 0\n",
      "0 | 3 | 0\n",
      "0 | 4 | 0\n",
      "2 | 1 | 2\n",
      "2 | 0 | 0\n",
      "1 | 2 | 2\n",
      "0 | 0 | 0\n",
      "12\n"
     ]
    }
   ],
   "source": [
    "from pyDatalog import pyDatalog\n",
    "def twice(a):\n",
    "    return a+a\n",
    "pyDatalog.create_terms('X,Y,Z,Arr')\n",
    "\n",
    "print('Set the X var to 1')\n",
    "print(X==1)\n",
    "print()\n",
    "print('Assignment of 2 Vars')\n",
    "print((X==True) & (Y==False))\n",
    "print()\n",
    "\n",
    "print('Assignment n times, to n values')\n",
    "print(Arr.in_((0,1,2,3,4)))\n",
    "print()\n",
    "\n",
    "print('Just another case N assignment')\n",
    "print(Arr.in_(range(5)).data)\n",
    "print()\n",
    "\n",
    "print('Filtering')\n",
    "print(X.in_(range(5)) & (X<2))\n",
    "print()\n",
    "\n",
    "print('Term of function')\n",
    "pyDatalog.create_terms('twice')\n",
    "print((X==2) & (Y==twice(X)))\n",
    "print()\n",
    "print('Combination Assignment and Filtering')\n",
    "print(X.in_(range(5)) & \n",
    "     Y.in_(range(5)) & \n",
    "     (Z==X*Y) & (Z<3))\n",
    "print(len(Z))"
   ]
  },
  {
   "cell_type": "code",
   "execution_count": 2,
   "metadata": {},
   "outputs": [
    {
     "data": {
      "application/vnd.jupyter.widget-view+json": {
       "model_id": "f486f5380b83476a93348f620a8f34d8",
       "version_major": 2,
       "version_minor": 0
      },
      "text/plain": [
       "A Jupyter Widget"
      ]
     },
     "metadata": {},
     "output_type": "display_data"
    }
   ],
   "source": [
    "from ipywidgets import interact_manual\n",
    "from pyDatalog import pyDatalog\n",
    "pyDatalog.create_terms('X, Y, Z, V, U, salary, total, employee, tax_rate, net_salary, hard_workers')\n",
    "\n",
    "# TAX RATE\n",
    "(tax_rate[X] == 0.33) <= (0 <= X)\n",
    "(tax_rate[X] == 0.50) <= (100 <= X)\n",
    "\n",
    "@interact_manual\n",
    "def get_input(name='User', salary=100, working_time = 100):\n",
    "    employee[name]=salary\n",
    "    net_salary[name] = employee[name]*(1-tax_rate[salary])\n",
    "    total[name] = net_salary[name] * working_time\n",
    "\n",
    "# Some data, feel free to add more using interactive form.\n",
    "get_input(\"e1\", 100, 500)\n",
    "get_input(\"e2\", 300, 50)\n",
    "get_input(\"e3\", 500, 500)\n"
   ]
  },
  {
   "cell_type": "code",
   "execution_count": 3,
   "metadata": {},
   "outputs": [
    {
     "name": "stdout",
     "output_type": "stream",
     "text": [
      "X  | Z   | V     | Y       \n",
      "---|-----|-------|---------\n",
      "e3 | 500 | 250.0 | 125000.0\n",
      "e2 | 300 | 150.0 | 7500.0  \n",
      "e1 | 100 | 50.0  | 25000.0 \n"
     ]
    }
   ],
   "source": [
    "print((employee[X] == Z) & (net_salary[X] == V) & (total[X]==Y))"
   ]
  },
  {
   "cell_type": "code",
   "execution_count": 57,
   "metadata": {},
   "outputs": [
    {
     "name": "stdout",
     "output_type": "stream",
     "text": [
      "X  | Z   | V     | Y      \n",
      "---|-----|-------|--------\n",
      "e1 | 200 | 100.0 | 50000.0\n"
     ]
    }
   ],
   "source": [
    "# Filtering, emptylees with salary < 500 and total salary > 10000.\n",
    "print((employee[X] == Z) & (net_salary[X] == V) & (total[X]==Y) & (Z < 500) & (Y > 10000))"
   ]
  },
  {
   "cell_type": "code",
   "execution_count": 95,
   "metadata": {},
   "outputs": [
    {
     "data": {
      "text/plain": [
       "[('e2', 400, 200.0, 10000.0), ('e1', 400, 200.0, 100000.0)]"
      ]
     },
     "execution_count": 95,
     "metadata": {},
     "output_type": "execute_result"
    }
   ],
   "source": [
    "hard_workers = (Z == employee[X]) & (V == net_salary[X]) & (Y==total[X]) & (Z < 500) & (Y > -10000)\n",
    "hard_workers & (employee[X] == 500)"
   ]
  },
  {
   "cell_type": "code",
   "execution_count": 93,
   "metadata": {},
   "outputs": [
    {
     "name": "stdout",
     "output_type": "stream",
     "text": [
      "X  | Z   | V     | Y       \n",
      "---|-----|-------|---------\n",
      "e1 | 400 | 200.0 | 100000.0\n",
      "e3 | 500 | 250.0 | 125000.0\n",
      "e2 | 400 | 200.0 | 10000.0 \n"
     ]
    }
   ],
   "source": [
    "print((employee[X] == Z) & (net_salary[X] == V) & (total[X]==Y))"
   ]
  },
  {
   "cell_type": "code",
   "execution_count": null,
   "metadata": {
    "collapsed": true
   },
   "outputs": [],
   "source": []
  }
 ],
 "metadata": {
  "anaconda-cloud": {},
  "kernelspec": {
   "display_name": "Python 3",
   "language": "python",
   "name": "python3"
  },
  "language_info": {
   "codemirror_mode": {
    "name": "ipython",
    "version": 3
   },
   "file_extension": ".py",
   "mimetype": "text/x-python",
   "name": "python",
   "nbconvert_exporter": "python",
   "pygments_lexer": "ipython3",
   "version": "3.5.1"
  },
  "widgets": {
   "state": {
    "32a51d31218d46a6a37fa1973993894e": {
     "views": [
      {
       "cell_index": 2
      }
     ]
    },
    "c32fd48b5e8d49a3b80c484b560621a3": {
     "views": [
      {
       "cell_index": 2
      }
     ]
    },
    "c456a5202f744432af99a1d49460735b": {
     "views": [
      {
       "cell_index": 2
      }
     ]
    }
   },
   "version": "1.2.0"
  }
 },
 "nbformat": 4,
 "nbformat_minor": 2
}
