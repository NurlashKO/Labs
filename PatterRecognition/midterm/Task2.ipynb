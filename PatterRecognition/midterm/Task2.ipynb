{
 "cells": [
  {
   "cell_type": "code",
   "execution_count": 12,
   "metadata": {},
   "outputs": [
    {
     "name": "stdout",
     "output_type": "stream",
     "text": [
      "Values for each [0.3, 0.3, 0.35]\n",
      "P: a3\n"
     ]
    }
   ],
   "source": [
    "t = [[0.5, 0.5, 0.2], [0.2, 0.7, 0.5], [0.4, 0.1, 0.5]]\n",
    "g = [0]*3\n",
    "p = [0.6, 0.4, 0.7]\n",
    "\n",
    "for i in range(3):\n",
    "    for j in range(3):\n",
    "        g[i] = max(g[i], t[j][i]*p[j]);\n",
    "        \n",
    "print('Values for each', g)\n",
    "# index + 1 because we start from 0\n",
    "print('P: a{}'.format(g.index(max(g)) + 1))\n"
   ]
  },
  {
   "cell_type": "code",
   "execution_count": null,
   "metadata": {
    "collapsed": true
   },
   "outputs": [],
   "source": []
  }
 ],
 "metadata": {
  "kernelspec": {
   "display_name": "Python 3",
   "language": "python",
   "name": "python3"
  },
  "language_info": {
   "codemirror_mode": {
    "name": "ipython",
    "version": 3
   },
   "file_extension": ".py",
   "mimetype": "text/x-python",
   "name": "python",
   "nbconvert_exporter": "python",
   "pygments_lexer": "ipython3",
   "version": "3.5.1"
  }
 },
 "nbformat": 4,
 "nbformat_minor": 2
}
