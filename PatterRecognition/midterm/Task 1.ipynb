{
 "cells": [
  {
   "cell_type": "code",
   "execution_count": 62,
   "metadata": {},
   "outputs": [
    {
     "name": "stdout",
     "output_type": "stream",
     "text": [
      "\n",
      "Task1\n",
      "A     | B     | F    \n",
      "------|-------|------\n",
      "False | True  | True \n",
      "True  | False | False\n",
      "False | False | False\n",
      "True  | True  | True \n",
      "\n",
      "Task2\n",
      "A     | B     | F    \n",
      "------|-------|------\n",
      "False | False | False\n",
      "True  | True  | True \n",
      "True  | False | True \n",
      "False | True  | True \n",
      "\n",
      "Task3\n",
      "A     | B     | F    \n",
      "------|-------|------\n",
      "False | True  | False\n",
      "True  | False | False\n",
      "False | False | True \n",
      "True  | True  | True \n",
      "\n",
      "Task4\n",
      "A     | B     | F   \n",
      "------|-------|-----\n",
      "False | True  | True\n",
      "False | False | True\n",
      "True  | True  | True\n",
      "True  | False | True\n"
     ]
    }
   ],
   "source": [
    "from pyDatalog import pyDatalog\n",
    "\n",
    "def task1(A, B):\n",
    "    return (A or (not A)) == B\n",
    "\n",
    "def task2(A, B):\n",
    "    return A or B\n",
    "\n",
    "def task3(A, B):\n",
    "    return ((not A) or B) and ((not B) or A)\n",
    "\n",
    "def task4(A, B):\n",
    "    return (A or (B and (not A))) or (A or (not (B or A)))\n",
    "\n",
    "pyDatalog.create_terms('A, B, Z, F, X, Y, task1, task2, task3, task4')\n",
    "\n",
    "#TaskA\n",
    "print('\\nTask1')\n",
    "print(A.in_((True, False)) & B.in_((True, False)) &  \n",
    "      (F==task1(A, B)))\n",
    "\n",
    "# TaskB\n",
    "print('\\nTask2')\n",
    "print(A.in_((True, False)) & B.in_((True, False)) &  \n",
    "      (F==task2(A, B)))\n",
    "\n",
    "# TaskC\n",
    "print('\\nTask3')\n",
    "print(A.in_((True, False)) & B.in_((True, False)) &  \n",
    "      (F==task3(A, B)))\n",
    "                                    \n",
    "# TaskD\n",
    "print('\\nTask4')\n",
    "print(A.in_((True, False)) & B.in_((True, False)) &  \n",
    "      (F==task4(A, B)))\n",
    "\n"
   ]
  },
  {
   "cell_type": "code",
   "execution_count": null,
   "metadata": {
    "collapsed": true
   },
   "outputs": [],
   "source": []
  },
  {
   "cell_type": "code",
   "execution_count": null,
   "metadata": {
    "collapsed": true
   },
   "outputs": [],
   "source": []
  }
 ],
 "metadata": {
  "kernelspec": {
   "display_name": "Python 3",
   "language": "python",
   "name": "python3"
  },
  "language_info": {
   "codemirror_mode": {
    "name": "ipython",
    "version": 3
   },
   "file_extension": ".py",
   "mimetype": "text/x-python",
   "name": "python",
   "nbconvert_exporter": "python",
   "pygments_lexer": "ipython3",
   "version": "3.5.1"
  }
 },
 "nbformat": 4,
 "nbformat_minor": 2
}
